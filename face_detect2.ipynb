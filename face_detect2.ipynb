{
 "cells": [
  {
   "cell_type": "code",
   "execution_count": 37,
   "metadata": {},
   "outputs": [],
   "source": [
    "import cv2"
   ]
  },
  {
   "cell_type": "code",
   "execution_count": 50,
   "metadata": {},
   "outputs": [],
   "source": [
    "path=r\"G:\\python\\test2.jpg\"\n",
    "#path=\"G:\\FaceDetect-master\\abba.png\"\n",
    "image=cv2.imread(path) "
   ]
  },
  {
   "cell_type": "code",
   "execution_count": 51,
   "metadata": {},
   "outputs": [],
   "source": [
    "path2=\"G:\\FaceDetect-master\\haarcascade_frontalface_default.xml\"\n",
    "classi = cv2.CascadeClassifier(path2)"
   ]
  },
  {
   "cell_type": "code",
   "execution_count": 52,
   "metadata": {},
   "outputs": [],
   "source": [
    "face=classi.detectMultiScale(\n",
    "    image,\n",
    "    scaleFactor=1.1,\n",
    "    minNeighbors=8,\n",
    "    minSize=(30,30),\n",
    "    flags = cv2.CASCADE_SCALE_IMAGE\n",
    ")"
   ]
  },
  {
   "cell_type": "code",
   "execution_count": 53,
   "metadata": {},
   "outputs": [
    {
     "name": "stdout",
     "output_type": "stream",
     "text": [
      "[[122 336  57  57]\n",
      " [395 338  54  54]\n",
      " [260 330  56  56]\n",
      " [564 328  50  50]\n",
      " [192 187  52  52]\n",
      " [457 195  54  54]\n",
      " [ 75 186  52  52]\n",
      " [317 182  55  55]\n",
      " [628 194  51  51]\n",
      " [158  36  53  53]\n",
      " [417  35  47  47]\n",
      " [534  58  51  51]\n",
      " [273  50  53  53]]\n",
      "13 faces detected\n"
     ]
    }
   ],
   "source": [
    "print(face)\n",
    "print('{0} faces detected'.format(len(face)))"
   ]
  },
  {
   "cell_type": "code",
   "execution_count": 54,
   "metadata": {},
   "outputs": [],
   "source": [
    "for (x, y, w, h) in face:\n",
    "    cv2.rectangle(image, (x, y), (x+w, y+h), (0, 255, 0), 2)"
   ]
  },
  {
   "cell_type": "code",
   "execution_count": 55,
   "metadata": {},
   "outputs": [],
   "source": [
    "cv2.imshow('boltu',image)\n",
    "cv2.waitKey(0)\n",
    "cv2.destroyAllWindows()"
   ]
  },
  {
   "cell_type": "code",
   "execution_count": null,
   "metadata": {},
   "outputs": [],
   "source": []
  },
  {
   "cell_type": "code",
   "execution_count": null,
   "metadata": {},
   "outputs": [],
   "source": []
  }
 ],
 "metadata": {
  "kernelspec": {
   "display_name": "Python 3",
   "language": "python",
   "name": "python3"
  },
  "language_info": {
   "codemirror_mode": {
    "name": "ipython",
    "version": 3
   },
   "file_extension": ".py",
   "mimetype": "text/x-python",
   "name": "python",
   "nbconvert_exporter": "python",
   "pygments_lexer": "ipython3",
   "version": "3.8.8"
  }
 },
 "nbformat": 4,
 "nbformat_minor": 4
}
