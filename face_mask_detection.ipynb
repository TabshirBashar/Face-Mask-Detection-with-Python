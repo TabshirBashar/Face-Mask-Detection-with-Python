{
 "cells": [
  {
   "cell_type": "code",
   "execution_count": 66,
   "metadata": {},
   "outputs": [],
   "source": [
    "import sys\n",
    "import matplotlib.pyplot as plt\n",
    "from tensorflow.keras.preprocessing.image import ImageDataGenerator\n",
    "from tensorflow.keras.applications import MobileNetV2\n",
    "from tensorflow.keras.layers import Dropout,Flatten,Dense,Input,AveragePooling2D\n",
    "from tensorflow.keras.models import Model\n",
    "from tensorflow.keras.optimizers import Adam\n",
    "from tensorflow.keras.applications.mobilenet_v2 import preprocess_input\n",
    "from tensorflow.keras.preprocessing.image import img_to_array,load_img\n",
    "from tensorflow.keras.utils import to_categorical\n",
    "from sklearn.preprocessing import LabelBinarizer\n",
    "from sklearn.model_selection import train_test_split\n",
    "from sklearn.metrics import classification_report\n",
    "from imutils import paths\n",
    "import numpy as np\n",
    "import os\n",
    "import argparse\n",
    "import cv2"
   ]
  },
  {
   "cell_type": "raw",
   "metadata": {},
   "source": [
    "# declaring basic values"
   ]
  },
  {
   "cell_type": "code",
   "execution_count": 47,
   "metadata": {},
   "outputs": [],
   "source": [
    "init=1e-4\n",
    "epochs=20\n",
    "bs=30"
   ]
  },
  {
   "cell_type": "code",
   "execution_count": null,
   "metadata": {},
   "outputs": [],
   "source": []
  },
  {
   "cell_type": "code",
   "execution_count": 48,
   "metadata": {},
   "outputs": [],
   "source": [
    "pat=r'G:\\face-mask-detector\\dataset'\n",
    "imagepaths=list(paths.list_images(pat))\n",
    "data=[]\n",
    "labels=[]\n",
    "for i in imagepaths:\n",
    "    label=i.split(os.path.sep)[-2]\n",
    "    image=load_img(i,target_size=(224,224))\n",
    "    image=img_to_array(image)\n",
    "    image=preprocess_input(image)\n",
    "    data.append(image)\n",
    "    labels.append(label)"
   ]
  },
  {
   "cell_type": "code",
   "execution_count": 49,
   "metadata": {},
   "outputs": [
    {
     "name": "stdout",
     "output_type": "stream",
     "text": [
      "1376 images have been found\n"
     ]
    }
   ],
   "source": [
    "print('{} images have been found'.format(len(imagepaths)))"
   ]
  },
  {
   "cell_type": "code",
   "execution_count": 50,
   "metadata": {},
   "outputs": [],
   "source": [
    "data=np.array(data,dtype='float32')\n",
    "labels=np.array(labels)"
   ]
  },
  {
   "cell_type": "code",
   "execution_count": 51,
   "metadata": {},
   "outputs": [],
   "source": [
    "lb=LabelBinarizer()\n",
    "labels=lb.fit_transform(labels)\n",
    "labels=to_categorical(labels)"
   ]
  },
  {
   "cell_type": "code",
   "execution_count": 59,
   "metadata": {},
   "outputs": [],
   "source": [
    "(xtrain,xtest,ytrain,ytest)=train_test_split(data,labels,test_size=.2,stratify=labels,random_state=42)"
   ]
  },
  {
   "cell_type": "code",
   "execution_count": 63,
   "metadata": {},
   "outputs": [],
   "source": [
    "aug=ImageDataGenerator(\n",
    "    rotation_range=20,\n",
    "    zoom_range=.15,\n",
    "    width_shift_range=.2,\n",
    "    height_shift_range=.2,\n",
    "    shear_range=.15,\n",
    "    horizontal_flip=True,\n",
    "    fill_mode='nearest'\n",
    ")"
   ]
  },
  {
   "cell_type": "code",
   "execution_count": 67,
   "metadata": {},
   "outputs": [
    {
     "name": "stdout",
     "output_type": "stream",
     "text": [
      "WARNING:tensorflow:`input_shape` is undefined or non-square, or `rows` is not in [96, 128, 160, 192, 224]. Weights for input shape (224, 224) will be loaded as the default.\n"
     ]
    }
   ],
   "source": [
    "baseModel=MobileNetV2(weights='imagenet',include_top=False, input_tensor=Input(shape=(224,224,3)))\n",
    "\n",
    "headModel=baseModel.output\n",
    "headModel = AveragePooling2D(pool_size=(7,7))(headModel)\n",
    "headModel = Flatten(name='Flatten')(headModel)\n",
    "headModel = Dense(128,activation='relu')(headModel)\n",
    "headModel = Dropout(0.5)(headModel)\n",
    "headModel = Dense(2,activation='softmax')(headModel)\n",
    "\n",
    "model=Model(inputs=baseModel.input, outputs=headModel)\n"
   ]
  },
  {
   "cell_type": "code",
   "execution_count": 68,
   "metadata": {},
   "outputs": [],
   "source": [
    "for layer in baseModel.layers:\n",
    "    layer.trainable = False"
   ]
  },
  {
   "cell_type": "code",
   "execution_count": 69,
   "metadata": {},
   "outputs": [],
   "source": [
    "opt = Adam(lr=init,decay=init/epochs)\n"
   ]
  },
  {
   "cell_type": "code",
   "execution_count": 71,
   "metadata": {},
   "outputs": [],
   "source": [
    "model.compile(loss='binary_crossentropy',optimizer=opt, metrics=['accuracy'])"
   ]
  },
  {
   "cell_type": "code",
   "execution_count": 72,
   "metadata": {},
   "outputs": [
    {
     "name": "stdout",
     "output_type": "stream",
     "text": [
      "Epoch 1/20\n",
      "36/36 [==============================] - 33s 913ms/step - loss: 0.3709 - accuracy: 0.8393 - val_loss: 0.1013 - val_accuracy: 0.9855\n",
      "Epoch 2/20\n",
      "36/36 [==============================] - 34s 938ms/step - loss: 0.1052 - accuracy: 0.9710 - val_loss: 0.0477 - val_accuracy: 0.9891\n",
      "Epoch 3/20\n",
      "36/36 [==============================] - 33s 913ms/step - loss: 0.0692 - accuracy: 0.9850 - val_loss: 0.0286 - val_accuracy: 0.9964\n",
      "Epoch 4/20\n",
      "36/36 [==============================] - 33s 917ms/step - loss: 0.0533 - accuracy: 0.9822 - val_loss: 0.0204 - val_accuracy: 0.9964\n",
      "Epoch 5/20\n",
      "36/36 [==============================] - 34s 940ms/step - loss: 0.0356 - accuracy: 0.9907 - val_loss: 0.0164 - val_accuracy: 1.0000\n",
      "Epoch 6/20\n",
      "36/36 [==============================] - 33s 914ms/step - loss: 0.0312 - accuracy: 0.9925 - val_loss: 0.0126 - val_accuracy: 1.0000\n",
      "Epoch 7/20\n",
      "36/36 [==============================] - 33s 915ms/step - loss: 0.0342 - accuracy: 0.9869 - val_loss: 0.0109 - val_accuracy: 1.0000\n",
      "Epoch 8/20\n",
      "36/36 [==============================] - 33s 924ms/step - loss: 0.0229 - accuracy: 0.9925 - val_loss: 0.0099 - val_accuracy: 1.0000\n",
      "Epoch 9/20\n",
      "36/36 [==============================] - 33s 920ms/step - loss: 0.0182 - accuracy: 0.9972 - val_loss: 0.0092 - val_accuracy: 1.0000\n",
      "Epoch 10/20\n",
      "36/36 [==============================] - 33s 924ms/step - loss: 0.0204 - accuracy: 0.9944 - val_loss: 0.0090 - val_accuracy: 1.0000\n",
      "Epoch 11/20\n",
      "36/36 [==============================] - 34s 941ms/step - loss: 0.0120 - accuracy: 0.9981 - val_loss: 0.0081 - val_accuracy: 1.0000\n",
      "Epoch 12/20\n",
      "36/36 [==============================] - 33s 914ms/step - loss: 0.0084 - accuracy: 0.9981 - val_loss: 0.0076 - val_accuracy: 1.0000\n",
      "Epoch 13/20\n",
      "36/36 [==============================] - 34s 940ms/step - loss: 0.0169 - accuracy: 0.9953 - val_loss: 0.0075 - val_accuracy: 0.9964\n",
      "Epoch 14/20\n",
      "36/36 [==============================] - 36s 1s/step - loss: 0.0094 - accuracy: 0.9963 - val_loss: 0.0070 - val_accuracy: 0.9964\n",
      "Epoch 15/20\n",
      "36/36 [==============================] - 34s 937ms/step - loss: 0.0095 - accuracy: 0.9981 - val_loss: 0.0067 - val_accuracy: 0.9964\n",
      "Epoch 16/20\n",
      "36/36 [==============================] - 34s 942ms/step - loss: 0.0078 - accuracy: 0.9991 - val_loss: 0.0061 - val_accuracy: 1.0000\n",
      "Epoch 17/20\n",
      "36/36 [==============================] - 35s 966ms/step - loss: 0.0083 - accuracy: 0.9991 - val_loss: 0.0060 - val_accuracy: 1.0000\n",
      "Epoch 18/20\n",
      "36/36 [==============================] - 36s 998ms/step - loss: 0.0125 - accuracy: 0.9953 - val_loss: 0.0063 - val_accuracy: 0.9964\n",
      "Epoch 19/20\n",
      "36/36 [==============================] - 36s 989ms/step - loss: 0.0139 - accuracy: 0.9972 - val_loss: 0.0061 - val_accuracy: 0.9964\n",
      "Epoch 20/20\n",
      "36/36 [==============================] - 33s 927ms/step - loss: 0.0093 - accuracy: 0.9972 - val_loss: 0.0055 - val_accuracy: 1.0000\n"
     ]
    }
   ],
   "source": [
    "history=model.fit(\n",
    "    aug.flow(xtrain,ytrain,batch_size=bs),\n",
    "    steps_per_epoch = len(xtrain)//bs,\n",
    "    validation_data = (xtest,ytest),\n",
    "    validation_steps = len(xtest)//bs,\n",
    "    epochs=epochs\n",
    ")"
   ]
  },
  {
   "cell_type": "code",
   "execution_count": 73,
   "metadata": {},
   "outputs": [],
   "source": [
    "pred = model.predict(xtest,batch_size=bs)"
   ]
  },
  {
   "cell_type": "code",
   "execution_count": 74,
   "metadata": {},
   "outputs": [],
   "source": [
    "pred=np.argmax(pred,axis=1)"
   ]
  },
  {
   "cell_type": "code",
   "execution_count": 77,
   "metadata": {},
   "outputs": [
    {
     "name": "stdout",
     "output_type": "stream",
     "text": [
      "              precision    recall  f1-score   support\n",
      "\n",
      "   with_mask       1.00      1.00      1.00       138\n",
      "without_mask       1.00      1.00      1.00       138\n",
      "\n",
      "    accuracy                           1.00       276\n",
      "   macro avg       1.00      1.00      1.00       276\n",
      "weighted avg       1.00      1.00      1.00       276\n",
      "\n"
     ]
    }
   ],
   "source": [
    "print(classification_report(ytest.argmax(axis=1),pred,target_names=lb.classes_))"
   ]
  },
  {
   "cell_type": "code",
   "execution_count": 80,
   "metadata": {},
   "outputs": [
    {
     "name": "stdout",
     "output_type": "stream",
     "text": [
      "WARNING:tensorflow:From G:\\anaconda\\envs\\tf\\lib\\site-packages\\tensorflow\\python\\training\\tracking\\tracking.py:111: Model.state_updates (from tensorflow.python.keras.engine.training) is deprecated and will be removed in a future version.\n",
      "Instructions for updating:\n",
      "This property should not be used in TensorFlow 2.0, as updates are applied automatically.\n",
      "WARNING:tensorflow:From G:\\anaconda\\envs\\tf\\lib\\site-packages\\tensorflow\\python\\training\\tracking\\tracking.py:111: Layer.updates (from tensorflow.python.keras.engine.base_layer) is deprecated and will be removed in a future version.\n",
      "Instructions for updating:\n",
      "This property should not be used in TensorFlow 2.0, as updates are applied automatically.\n",
      "INFO:tensorflow:Assets written to: face_mask\\assets\n"
     ]
    }
   ],
   "source": [
    "model.save('face_mask')\n",
    "#reconstructed_model = keras.models.load_model(\"my_model\")"
   ]
  },
  {
   "cell_type": "code",
   "execution_count": 81,
   "metadata": {},
   "outputs": [],
   "source": [
    "model.save('face_mask1',save_format='h5')"
   ]
  },
  {
   "cell_type": "code",
   "execution_count": 88,
   "metadata": {},
   "outputs": [
    {
     "data": {
      "text/plain": [
       "<matplotlib.legend.Legend at 0x1971c1353a0>"
      ]
     },
     "execution_count": 88,
     "metadata": {},
     "output_type": "execute_result"
    },
    {
     "data": {
      "image/png": "[encoded data removed]",
      "text/plain": [
       "<Figure size 432x288 with 1 Axes>"
      ]
     },
     "metadata": {},
     "output_type": "display_data"
    }
   ],
   "source": [
    "n=epochs\n",
    "plt.style.use('ggplot')\n",
    "plt.figure()\n",
    "plt.plot(np.arange(0,n),history.history['loss'],label='train_loss')\n",
    "plt.plot(np.arange(0,n),history.history['val_loss'],label='val_loss')\n",
    "plt.plot(np.arange(0,n),history.history['accuracy'],label='train_acc')\n",
    "plt.plot(np.arange(0,n),history.history['val_accuracy'],label='val_acc')\n",
    "plt.title('training loss and accuracy')\n",
    "plt.xlabel('Epoch')\n",
    "plt.ylabel('Loss/Accuracy')\n",
    "plt.legend(loc='lower right')"
   ]
  },
  {
   "cell_type": "code",
   "execution_count": null,
   "metadata": {},
   "outputs": [],
   "source": []
  }
 ],
 "metadata": {
  "kernelspec": {
   "display_name": "Python 3",
   "language": "python",
   "name": "python3"
  },
  "language_info": {
   "codemirror_mode": {
    "name": "ipython",
    "version": 3
   },
   "file_extension": ".py",
   "mimetype": "text/x-python",
   "name": "python",
   "nbconvert_exporter": "python",
   "pygments_lexer": "ipython3",
   "version": "3.8.8"
  }
 },
 "nbformat": 4,
 "nbformat_minor": 4
}
