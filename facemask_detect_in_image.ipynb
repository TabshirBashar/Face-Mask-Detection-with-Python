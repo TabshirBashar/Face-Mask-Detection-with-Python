{
 "cells": [
  {
   "cell_type": "code",
   "execution_count": 1,
   "id": "inner-entity",
   "metadata": {},
   "outputs": [],
   "source": [
    "from tensorflow.keras.applications.mobilenet_v2 import preprocess_input\n",
    "from tensorflow.keras.preprocessing.image import img_to_array\n",
    "from tensorflow.keras.models import load_model\n",
    "import numpy as np\n",
    "import cv2\n",
    "import os"
   ]
  },
  {
   "cell_type": "code",
   "execution_count": 14,
   "id": "elegant-zambia",
   "metadata": {},
   "outputs": [],
   "source": [
    "#testimage=r'G:\\face-mask-detector\\examples\\example_03.png'\n",
    "testimage=r'G:\\python\\aushitest2.jpg'\n",
    "path1=r'G:\\face-mask-detector\\face_detector\\deploy.prototxt'\n",
    "path2=r'G:\\face-mask-detector\\face_detector\\res10_300x300_ssd_iter_140000.caffemodel'"
   ]
  },
  {
   "cell_type": "code",
   "execution_count": 3,
   "id": "broad-matthew",
   "metadata": {},
   "outputs": [],
   "source": [
    "net=cv2.dnn.readNet(path1,path2)"
   ]
  },
  {
   "cell_type": "code",
   "execution_count": 4,
   "id": "brutal-seller",
   "metadata": {},
   "outputs": [],
   "source": [
    "model=load_model('face_mask1')"
   ]
  },
  {
   "cell_type": "code",
   "execution_count": 15,
   "id": "fluid-mileage",
   "metadata": {},
   "outputs": [],
   "source": [
    "image=cv2.imread(testimage)\n",
    "orig=image.copy()\n",
    "(h,w)=image.shape[:2]"
   ]
  },
  {
   "cell_type": "code",
   "execution_count": 16,
   "id": "neither-authority",
   "metadata": {},
   "outputs": [],
   "source": [
    "blob=cv2.dnn.blobFromImage(image,1,(300,300),(104,177,123))"
   ]
  },
  {
   "cell_type": "code",
   "execution_count": 17,
   "id": "streaming-passing",
   "metadata": {},
   "outputs": [],
   "source": [
    "net.setInput(blob)\n",
    "detections=net.forward()"
   ]
  },
  {
   "cell_type": "code",
   "execution_count": 18,
   "id": "mathematical-cement",
   "metadata": {},
   "outputs": [],
   "source": [
    "for i in range(0,detections.shape[2]):\n",
    "    confid=detections[0,0,i,2]\n",
    "    \n",
    "    if confid>.5:\n",
    "        box=detections[0,0,i,3:7]*np.array([w,h,w,h])\n",
    "        (startx,starty,endx,endy)=box.astype('int')\n",
    "        \n",
    "        (startx1,starty1)=(max(0,startx),max(0,starty))\n",
    "        (endx1,endy1)=(min(w-1,endx),min(h-1,endy))"
   ]
  },
  {
   "cell_type": "code",
   "execution_count": 19,
   "id": "advanced-student",
   "metadata": {},
   "outputs": [],
   "source": [
    "face=image[starty1:endy1,startx1:endx1]\n",
    "face=cv2.cvtColor(face,cv2.COLOR_BGR2RGB)\n",
    "face=cv2.resize(face,(224,224))\n",
    "face=img_to_array(face)\n",
    "face=preprocess_input(face)\n",
    "face=np.expand_dims(face,axis=0)"
   ]
  },
  {
   "cell_type": "code",
   "execution_count": 20,
   "id": "valued-flexibility",
   "metadata": {},
   "outputs": [],
   "source": [
    "(mask,withoutmask)=model.predict(face)[0]"
   ]
  },
  {
   "cell_type": "code",
   "execution_count": 21,
   "id": "knowing-thunder",
   "metadata": {},
   "outputs": [],
   "source": [
    "label='Mask' if mask>withoutmask else 'No Mask'\n",
    "color=(0,255,0) if label=='Mask' else (0, 0,255)\n",
    "label=\"{}:(:.2f)%\".format(label,max(mask,withoutmask)*100)"
   ]
  },
  {
   "cell_type": "code",
   "execution_count": 22,
   "id": "lined-conviction",
   "metadata": {
    "scrolled": true
   },
   "outputs": [
    {
     "data": {
      "text/plain": [
       "array([[[ 72,  80,  80],\n",
       "        [ 72,  80,  80],\n",
       "        [ 70,  80,  80],\n",
       "        ...,\n",
       "        [ 81, 100,  97],\n",
       "        [ 81, 100,  97],\n",
       "        [ 81, 100,  97]],\n",
       "\n",
       "       [[ 72,  80,  80],\n",
       "        [ 72,  80,  80],\n",
       "        [ 70,  80,  80],\n",
       "        ...,\n",
       "        [ 81, 100,  97],\n",
       "        [ 81, 100,  97],\n",
       "        [ 81, 100,  97]],\n",
       "\n",
       "       [[ 72,  80,  80],\n",
       "        [ 72,  80,  80],\n",
       "        [ 70,  80,  80],\n",
       "        ...,\n",
       "        [ 81, 100,  97],\n",
       "        [ 81, 100,  97],\n",
       "        [ 81, 100,  97]],\n",
       "\n",
       "       ...,\n",
       "\n",
       "       [[ 52,  55,  53],\n",
       "        [ 52,  55,  53],\n",
       "        [ 52,  55,  53],\n",
       "        ...,\n",
       "        [143, 177, 190],\n",
       "        [143, 177, 190],\n",
       "        [143, 177, 190]],\n",
       "\n",
       "       [[ 52,  55,  53],\n",
       "        [ 52,  55,  53],\n",
       "        [ 52,  55,  53],\n",
       "        ...,\n",
       "        [145, 177, 190],\n",
       "        [145, 177, 190],\n",
       "        [145, 177, 190]],\n",
       "\n",
       "       [[ 52,  55,  53],\n",
       "        [ 52,  55,  53],\n",
       "        [ 52,  55,  53],\n",
       "        ...,\n",
       "        [145, 177, 190],\n",
       "        [145, 177, 190],\n",
       "        [145, 177, 190]]], dtype=uint8)"
      ]
     },
     "execution_count": 22,
     "metadata": {},
     "output_type": "execute_result"
    }
   ],
   "source": [
    "cv2.putText(image,label,(startx1,starty1-10),\n",
    "           cv2.FONT_HERSHEY_SIMPLEX,.45,color,2\n",
    "           )\n",
    "cv2.rectangle(image,(startx1,starty1),(endx1,endy1),color,2)"
   ]
  },
  {
   "cell_type": "code",
   "execution_count": 23,
   "id": "proper-federation",
   "metadata": {},
   "outputs": [],
   "source": [
    "cv2.imshow('Output',image)\n",
    "cv2.waitKey(0)\n",
    "cv2.destroyAllWindows()"
   ]
  },
  {
   "cell_type": "code",
   "execution_count": null,
   "id": "regulation-adult",
   "metadata": {},
   "outputs": [],
   "source": []
  }
 ],
 "metadata": {
  "kernelspec": {
   "display_name": "Python 3",
   "language": "python",
   "name": "python3"
  },
  "language_info": {
   "codemirror_mode": {
    "name": "ipython",
    "version": 3
   },
   "file_extension": ".py",
   "mimetype": "text/x-python",
   "name": "python",
   "nbconvert_exporter": "python",
   "pygments_lexer": "ipython3",
   "version": "3.8.8"
  }
 },
 "nbformat": 4,
 "nbformat_minor": 5
}
